{
 "cells": [
  {
   "cell_type": "code",
   "execution_count": 6,
   "id": "004b1f3d-0084-4a33-8ef0-ce1210d119a0",
   "metadata": {},
   "outputs": [
    {
     "name": "stdout",
     "output_type": "stream",
     "text": [
      "Содержимое файла:\n",
      " один\n",
      "два\n",
      "три\n",
      "\n",
      "Файл существует: True\n",
      "Файл удален.\n"
     ]
    }
   ],
   "source": [
    "import os\n",
    "\n",
    "with open(\"digits.txt\", \"w\") as f:\n",
    "    f.write(\"один\\n\")\n",
    "    f.write(\"два\\n\")\n",
    "    f.write(\"три\\n\")\n",
    "\n",
    "with open(\"digits.txt\", \"r\") as f:\n",
    "    content = f.read()\n",
    "    print(\"Содержимое файла:\\n\", content)\n",
    "\n",
    "print(\"Файл существует:\", os.path.exists(\"digits.txt\"))\n",
    "\n",
    "os.remove(\"digits.txt\")\n",
    "print(\"Файл удален.\")"
   ]
  },
  {
   "cell_type": "code",
   "execution_count": null,
   "id": "2403555e-1029-4cb4-9d82-d12605e9b5bb",
   "metadata": {},
   "outputs": [],
   "source": []
  }
 ],
 "metadata": {
  "kernelspec": {
   "display_name": "Python [conda env:base] *",
   "language": "python",
   "name": "conda-base-py"
  },
  "language_info": {
   "codemirror_mode": {
    "name": "ipython",
    "version": 3
   },
   "file_extension": ".py",
   "mimetype": "text/x-python",
   "name": "python",
   "nbconvert_exporter": "python",
   "pygments_lexer": "ipython3",
   "version": "3.12.7"
  }
 },
 "nbformat": 4,
 "nbformat_minor": 5
}
