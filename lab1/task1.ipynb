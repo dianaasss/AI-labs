{
 "cells": [
  {
   "cell_type": "markdown",
   "id": "d96d00d3-3f5d-4867-bce0-351b3e75e359",
   "metadata": {},
   "source": [
    "\"Практическое задание №1\"\n",
    "\n",
    "**жирный** *курсивый* текст\n",
    "\n",
    "Список\n",
    "- пункт 1\n",
    "- пункт 2\n",
    "\n",
    "Список\n",
    "1. Пункт 1\n",
    "2. Пункт 2\n",
    "\n",
    "Ряд Фурье для периодической функции: $$f(x) = \\frac{a_0}{2} + \\sum_{n=1}^\\infty a_n \\cos(nx) + b_n \\sin(nx)$$"
   ]
  },
  {
   "cell_type": "markdown",
   "id": "ddb56b70-efbb-4427-ad3e-0b24691f6096",
   "metadata": {},
   "source": [
    "![Котик](https://yandex-images.clstorage.net/9d8uw3q51/dec743tv/7Wt27IesfidUNNeKr81857G6fVTiXaVWxGtKs1TS70Pw_kQfHpkEjzX6M9lJ7KNWKCbEBvgEi-BFrUJ-m8YLToh_c6hCOCvDJDSGzh9pvUdwuymVNmzxd1QrPyOU0QmEctwyvc3r8_2CW5OsjCyS56xi9-AZYB-0hdlAuom0Xhh-eMfNt37fUBZGBo8Mr8wWY0lrJWLdY3fTiwoEkTC6RjLtgt2sOhMtMthBHNyug8HuYNbS3BFNlLVIsXuZBGw5vNrEzeVNDlEkluRu_s8td2BrCOUBX9C2QcsrxMHQusfAHxJuPtpjLFJbIR1-rgMhH9IHAc5Rb2RE6HAIS1YdCa-qBL_nTcxwFCREbXxNX2WiqykEYW6ShwKLq-ZjcVvlID7Az-56IB_D2WGt_o2hgw7jtNMvgAxHRdvCSoh3nApeKoV9Vq3OkDaWFx6u3GxFAum5xXBfgQchKNhlAnPKZgNsw41ta9EuItmBX__MocEfYxRzfXIORuVK4pqId-6rzliGnbTtvlLUBufNPN3cVzGa6pYyP-Cm0Av6NHNwu_ayDAFv3ksi3TMa03yM7BHyz3CU8G4zHnf0mVK4qJXOun-6d9-lTF2AlYZ2f-4P3adSSJongKxR1mFo-kfSY7iEU5wy7U9JwN_weONsHE9jMg9x5FJ_g661V7vTOZilXxp_KmYsRq0OI9Rkps3NLg9HIXtZ5ZKeQJSC6eu30LGKtEKsAexd6hHeMeozPO0eU3Ge4UYjbRNcduaLktq7B13YnQokTMXcTzGHtmSsvv4s55K7W4bTfWCV81tIlZEy2pRADtEuv4vynLGbkL0uX-PDDcGEQb8xXZVVWoKpeuXuid7qxr-3rj0zxZRVHhzfPNeBe8n0429w1QP4m1TBM7hXwd6gTdw4IV-BihHO7e7gc6wDFRK8U021Jeny2HlGbIqN-QdspCxOsjW2VZ1-3Xyk0KurRwGOgwRx2po0EIA5U)"
   ]
  },
  {
   "cell_type": "code",
   "execution_count": 43,
   "id": "b0607252-d3da-4565-90cc-8b2ea682e3a1",
   "metadata": {},
   "outputs": [
    {
     "name": "stdin",
     "output_type": "stream",
     "text": [
      " Диана\n"
     ]
    },
    {
     "name": "stdout",
     "output_type": "stream",
     "text": [
      "Привет, Диана! Добро пожаловать в JupyterLab / Google Colab!\n"
     ]
    }
   ],
   "source": [
    "name = input()\n",
    "print(\"Привет, \", name, \"!\", \" Добро пожаловать в JupyterLab / Google Colab!\", sep=\"\")"
   ]
  },
  {
   "cell_type": "code",
   "execution_count": null,
   "id": "a2d7954d-0479-4cb4-832c-2a8b47536107",
   "metadata": {},
   "outputs": [],
   "source": []
  }
 ],
 "metadata": {
  "kernelspec": {
   "display_name": "Python [conda env:base] *",
   "language": "python",
   "name": "conda-base-py"
  },
  "language_info": {
   "codemirror_mode": {
    "name": "ipython",
    "version": 3
   },
   "file_extension": ".py",
   "mimetype": "text/x-python",
   "name": "python",
   "nbconvert_exporter": "python",
   "pygments_lexer": "ipython3",
   "version": "3.12.7"
  }
 },
 "nbformat": 4,
 "nbformat_minor": 5
}
