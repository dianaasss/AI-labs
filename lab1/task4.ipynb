{
 "cells": [
  {
   "cell_type": "code",
   "execution_count": 12,
   "id": "7dc2a1d6-20ba-469e-83d6-b4c5dec92a7c",
   "metadata": {
    "scrolled": true
   },
   "outputs": [
    {
     "name": "stdout",
     "output_type": "stream",
     "text": [
      " Том в устройстве C имеет метку Windows\n",
      " Серийный номер тома: 6671-0D7A\n",
      "\n",
      " Содержимое папки C:\\Users\\diana\n",
      "\n",
      "11.03.2025  21:56    <DIR>          .\n",
      "16.12.2024  01:59    <DIR>          ..\n",
      "17.02.2025  21:55    <DIR>          .anaconda\n",
      "20.06.2023  00:02    <DIR>          .atom\n",
      "11.03.2025  21:57    <DIR>          .conda\n",
      "17.02.2025  21:44               146 .condarc\n",
      "17.02.2025  21:43    <DIR>          .continuum\n",
      "21.03.2024  17:50    <DIR>          .dotnet\n",
      "11.03.2025  21:36    <DIR>          .ipynb_checkpoints\n",
      "17.02.2025  21:44    <DIR>          .ipython\n",
      "17.02.2025  21:45    <DIR>          .jupyter\n",
      "18.02.2025  21:15    <DIR>          .matplotlib\n",
      "15.04.2024  19:09    <DIR>          .nuget\n",
      "21.03.2024  18:23    <DIR>          .templateengine\n",
      "11.03.2025  21:37    <DIR>          .virtual_documents\n",
      "01.01.2025  14:47    <DIR>          .VirtualBox\n",
      "23.06.2024  18:09    <DIR>          .vscode\n",
      "17.02.2025  21:46    <DIR>          anaconda_projects\n",
      "17.02.2025  21:46    <DIR>          anaconda3\n",
      "16.12.2024  02:08    <DIR>          Contacts\n",
      "09.03.2025  20:14    <DIR>          Desktop\n",
      "20.12.2024  03:02    <DIR>          Documents\n",
      "08.03.2025  03:46    <DIR>          Downloads\n",
      "16.12.2024  02:08    <DIR>          Favorites\n",
      "04.03.2025  23:45            43 288 lab1.ipynb\n",
      "16.12.2024  02:08    <DIR>          Links\n",
      "16.12.2024  02:08    <DIR>          Music\n",
      "11.03.2025  21:52    <DIR>          new_folder\n",
      "04.03.2025  21:48    <DIR>          notebooks\n",
      "22.05.2024  23:51    <DIR>          OneDrive\n",
      "16.12.2024  02:08    <DIR>          Pictures\n",
      "17.02.2025  22:51    <DIR>          Projects\n",
      "26.04.2023  21:54    <DIR>          PycharmProjects\n",
      "16.12.2024  02:08    <DIR>          Saved Games\n",
      "16.12.2024  02:08    <DIR>          Searches\n",
      "16.09.2023  00:02    <DIR>          source\n",
      "05.03.2025  03:24             2 994 task1.ipynb\n",
      "05.03.2025  03:39             1 600 task2.ipynb\n",
      "11.03.2025  21:36            29 045 task3.ipynb\n",
      "11.03.2025  21:56             4 268 task4.ipynb\n",
      "11.03.2025  21:36                56 test_script.py\n",
      "04.03.2025  23:24                20 text.csv\n",
      "05.03.2025  02:35                72 Untitled.ipynb\n",
      "16.12.2024  02:08    <DIR>          Videos\n",
      "04.12.2024  18:19    <DIR>          VirtualBox VMs\n",
      "               9 файлов         81 489 байт\n",
      "              36 папок  312 163 430 400 байт свободно\n"
     ]
    },
    {
     "name": "stderr",
     "output_type": "stream",
     "text": [
      "\"which\" не является внутренней или внешней\n",
      "командой, исполняемой программой или пакетным файлом.\n",
      "Подпапка или файл new_folder уже существует.\n"
     ]
    }
   ],
   "source": [
    "%ls\n",
    "%mkdir new_folder\n",
    "%rmdir new_folder"
   ]
  },
  {
   "cell_type": "code",
   "execution_count": 22,
   "id": "783c2674-12ee-48b2-9189-20e9b3b52b9e",
   "metadata": {},
   "outputs": [
    {
     "name": "stdout",
     "output_type": "stream",
     "text": [
      "C:\\Users\\diana\\anaconda3\\python.exe\n",
      "C:\\Users\\diana\\AppData\\Local\\Programs\\Python\\Python311\\python.exe\n",
      "C:\\Users\\diana\\AppData\\Local\\Microsoft\\WindowsApps\\python.exe\n"
     ]
    }
   ],
   "source": [
    "!where python"
   ]
  },
  {
   "cell_type": "code",
   "execution_count": 24,
   "id": "8fb9e87c-67eb-41b9-98cb-70b945b511ed",
   "metadata": {},
   "outputs": [],
   "source": [
    "%mkdir test_folder"
   ]
  },
  {
   "cell_type": "code",
   "execution_count": 26,
   "id": "3acc5a80-037d-4c0e-99e6-0b85f5a5cee1",
   "metadata": {},
   "outputs": [
    {
     "name": "stdout",
     "output_type": "stream",
     "text": [
      " Том в устройстве C имеет метку Windows\n",
      " Серийный номер тома: 6671-0D7A\n",
      "\n",
      " Содержимое папки C:\\Users\\diana\\test_folder\n",
      "\n",
      "11.03.2025  22:13    <DIR>          .\n",
      "11.03.2025  22:04    <DIR>          ..\n",
      "11.03.2025  22:13                56 test_script.py\n",
      "               1 файлов             56 байт\n",
      "               2 папок  307 656 650 752 байт свободно\n"
     ]
    }
   ],
   "source": [
    "%ls test_folder"
   ]
  },
  {
   "cell_type": "code",
   "execution_count": 39,
   "id": "13e383ca-7e3a-41b4-b2d4-d033ef9501d6",
   "metadata": {},
   "outputs": [],
   "source": [
    "!rmdir /S /Q test_folder"
   ]
  },
  {
   "cell_type": "code",
   "execution_count": null,
   "id": "9a076e66-fbdf-4aa6-9058-4704e1aadf1b",
   "metadata": {},
   "outputs": [],
   "source": []
  }
 ],
 "metadata": {
  "kernelspec": {
   "display_name": "Python [conda env:base] *",
   "language": "python",
   "name": "conda-base-py"
  },
  "language_info": {
   "codemirror_mode": {
    "name": "ipython",
    "version": 3
   },
   "file_extension": ".py",
   "mimetype": "text/x-python",
   "name": "python",
   "nbconvert_exporter": "python",
   "pygments_lexer": "ipython3",
   "version": "3.12.7"
  }
 },
 "nbformat": 4,
 "nbformat_minor": 5
}
